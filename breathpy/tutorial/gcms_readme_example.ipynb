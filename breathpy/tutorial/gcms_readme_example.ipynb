{
 "cells": [
  {
   "cell_type": "code",
   "execution_count": null,
   "metadata": {
    "scrolled": true
   },
   "outputs": [],
   "source": [
    "# handle imports\n",
    "from urllib.request import urlretrieve\n",
    "from pathlib import Path\n",
    "from zipfile import ZipFile\n",
    "\n",
    "# download and extract data into data/algae directory\n",
    "url = 'https://github.com/philmaweb/BreathAnalysis.github.io/raw/master/data/algae.zip'\n",
    "zip_dst = Path(\"data/algae.zip\")\n",
    "dst_dir = Path(\"data/algae/\")\n",
    "dst_dir.mkdir(parents=True, exist_ok=True)\n",
    "urlretrieve(url, zip_dst)\n",
    "\n",
    "# unzip archive into data subdirectory\n",
    "with ZipFile(zip_dst, \"r\") as archive_handle:\n",
    "    archive_handle.extractall(Path(dst_dir))"
   ]
  },
  {
   "cell_type": "code",
   "execution_count": null,
   "metadata": {},
   "outputs": [],
   "source": [
    "import os\n",
    "from pathlib import Path\n",
    "from breathpy.model.BreathCore import construct_default_parameters,construct_default_processing_evaluation_steps\n",
    "from breathpy.model.ProcessingMethods import GCMSPeakDetectionMethod, PerformanceMeasure, FeatureReductionMethod\n",
    "from breathpy.model.GCMSTest import run_gcms_platform_multicore\n",
    "from breathpy.generate_sample_data import generate_train_test_set_helper\n",
    "\n",
    "\"\"\"\n",
    "Runs analysis of the algae sample set (Sun M, Yang Z and Wawrik B (2018) Metabolomic Fingerprints \n",
    "of Individual Algal Cells Using the Single-Probe Mass Spectrometry Technique. \n",
    "Front. Plant Sci. 9:571. doi: 10.3389/fpls.2018.00571)\n",
    "\n",
    "19 samples from four conditions - light, dark, nitrogen-limited and replete (post nitrogen-limited)\n",
    "Samples originated from single-probe mass spectrometry files - we import created featureXML files.\n",
    ":param cross_val_num:\n",
    ":return:\n",
    "\"\"\"\n",
    "cross_val_num=3\n",
    "# or use your local path to a dataset here\n",
    "source_dir = Path(\"data/algae\")\n",
    "target_dir = Path(\"data\")\n",
    "\n",
    "# will delete previous split and rewrite data\n",
    "train_df, test_df = generate_train_test_set_helper(source_dir, target_dir, cross_val_num=cross_val_num)\n",
    "train_dir = Path(target_dir)/\"train_algae\"\n",
    "\n",
    "# prepare analysis\n",
    "set_name = \"train_algae\"\n",
    "make_plots = True\n",
    "\n",
    "# generate parameters\n",
    "plot_parameters, file_parameters = construct_default_parameters(set_name, set_name, make_plots=make_plots)\n",
    "preprocessing_params_dict = {GCMSPeakDetectionMethod.ISOTOPEWAVELET: {\"hr_data\": True}}\n",
    "_, evaluation_params_dict = construct_default_processing_evaluation_steps(cross_val_num)\n",
    "evaluation_params_dict[FeatureReductionMethod.REMOVE_PERCENTAGE_FEATURES]['percentage_threshold'] = 0.9\n",
    "# running the full analysis takes less than 30 minutes of computation time using 6 \n",
    "#  cores - in this example most if not all computations are single core though\n",
    "run_gcms_platform_multicore(\n",
    "    sample_dir=train_dir, \n",
    "    preprocessing_params=preprocessing_params_dict, \n",
    "    evaluation_parms=evaluation_params_dict, num_cores=6)"
   ]
  }
 ],
 "metadata": {
  "kernelspec": {
   "display_name": "Python 3",
   "language": "python",
   "name": "python3"
  },
  "language_info": {
   "codemirror_mode": {
    "name": "ipython",
    "version": 3
   },
   "file_extension": ".py",
   "mimetype": "text/x-python",
   "name": "python",
   "nbconvert_exporter": "python",
   "pygments_lexer": "ipython3",
   "version": "3.8.2"
  }
 },
 "nbformat": 4,
 "nbformat_minor": 4
}
